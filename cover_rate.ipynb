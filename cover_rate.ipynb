{
 "cells": [
  {
   "cell_type": "markdown",
   "metadata": {},
   "source": [
    "# Cover Rate Test"
   ]
  },
  {
   "cell_type": "markdown",
   "metadata": {},
   "source": [
    "We only choose some most frequently appearing answers from the train set as candidates, so it's important to observe their coverage on the answers in validation set (or test set).\n",
    "\n",
    "Since our train set is far smaller than the original VQA 2.0 trainset, it seems the model performs best when the selected answer is around 350."
   ]
  },
  {
   "cell_type": "code",
   "execution_count": 11,
   "metadata": {},
   "outputs": [
    {
     "name": "stdout",
     "output_type": "stream",
     "text": [
      "Selected answer number: 350\n",
      "Cover rate: 0.7574900863074411\n"
     ]
    }
   ],
   "source": [
    "import config\n",
    "import utils\n",
    "import data\n",
    "import json\n",
    "\n",
    "with open(config.vocabulary_path, 'r') as fd:\n",
    "    vocab_json = json.load(fd)\n",
    "answ_dict = vocab_json['answer']\n",
    "print(\"Selected answer number: {}\".format(len(answ_dict)))\n",
    "\n",
    "val_answers = utils.path_for(val=True, answer=True)\n",
    "with open(val_answers, 'r') as fd:\n",
    "    val_answers = json.load(fd)\n",
    "val_answers = data.prepare_answers(val_answers)\n",
    "\n",
    "total_num = 0\n",
    "cover_num = 0\n",
    "for answ in val_answers:\n",
    "    for single_answ in answ:\n",
    "        if single_answ in list(answ_dict.keys()):\n",
    "            cover_num += 1\n",
    "        total_num += 1\n",
    "print(\"Cover rate: {}\".format(cover_num/total_num))"
   ]
  }
 ],
 "metadata": {
  "interpreter": {
   "hash": "5b88593a54178c4ad0f6717b1d9b69bdf93074f862ea03a9bcbac6eb406e2a88"
  },
  "kernelspec": {
   "display_name": "Python 3.7.5 64-bit ('AI': conda)",
   "name": "python3"
  },
  "language_info": {
   "name": "python",
   "version": ""
  },
  "orig_nbformat": 4
 },
 "nbformat": 4,
 "nbformat_minor": 2
}